{
 "cells": [
  {
   "cell_type": "markdown",
   "metadata": {},
   "source": [
    "# Introduction \n",
    "As part of the \"Basics of Mobile Robotics\" course project by Professor Mondada, our goal is to have a Thymio navigate a map to collect the available apples. During this mission, it must avoid obstacles and find the most optimal path to achieve its objective. To achieve this, we have organized the project into four parts: Global Vision, Path Planning, Motion Control & Pose, and Local Navigation."
   ]
  },
  {
   "cell_type": "markdown",
   "metadata": {},
   "source": [
    "# Members of the group \n",
    "\n",
    "1. **Anthony Kalaydjian** \n",
    "    - Study : MA3 - Computer Science & Applied Mathematics\n",
    "    - Role : Path Planning\n",
    "2. **Francis Pannatier** \n",
    "    - Study : MA1 - Robotics\n",
    "    - Role : Local Vision \n",
    "3. **George Petran** \n",
    "    - Study : MA1 - Robotics \n",
    "    - Role : Global Vision\n",
    "4. **Johanne Pinel** \n",
    "    - Study : MA1 - Robotics \n",
    "    - Role : Motion Control & Pose"
   ]
  },
  {
   "cell_type": "markdown",
   "metadata": {},
   "source": [
    "# Setup \n",
    "\n",
    "Map :\n",
    "\n",
    "\n",
    "- Red point represents goals\n",
    "- Black elements represents obstacles\n",
    "- Aruco markers serve as boundaries for the map () and to detect the Thymio ().\n",
    "- Aruco marker type:  "
   ]
  },
  {
   "cell_type": "markdown",
   "metadata": {},
   "source": [
    "# Partie 3 - Motion Control & Pose\n",
    "  \n",
    "\n",
    "As part of the \"Basics of Mobile Robotics\" course project, it is essential to track the position of the Thymio during its movement on the map created for it. Thus, here is the implemented Kalman filter; we have chosen to use an Extended Kalman Filter because our system is nonlinear. The use of such a filter is well-suited for robot tracking, such as with the Thymio.\n"
   ]
  },
  {
   "cell_type": "code",
   "execution_count": 4,
   "metadata": {},
   "outputs": [
    {
     "name": "stdout",
     "output_type": "stream",
     "text": [
      "Requirement already satisfied: tqdm in c:\\users\\johanne\\appdata\\local\\programs\\python\\python37-32\\lib\\site-packages (4.66.5)\n",
      "Requirement already satisfied: scipy in c:\\users\\johanne\\appdata\\local\\programs\\python\\python37-32\\lib\\site-packages (1.7.3)\n",
      "Requirement already satisfied: colorama in c:\\users\\johanne\\appdata\\local\\programs\\python\\python37-32\\lib\\site-packages (from tqdm) (0.4.6)\n",
      "Requirement already satisfied: numpy<1.23.0,>=1.16.5 in c:\\users\\johanne\\appdata\\local\\programs\\python\\python37-32\\lib\\site-packages (from scipy) (1.21.6)\n",
      "Requirement already satisfied: thymiodirect in c:\\users\\johanne\\appdata\\local\\programs\\python\\python37-32\\lib\\site-packages (0.1.2)\n",
      "Requirement already satisfied: pyserial in c:\\users\\johanne\\appdata\\local\\programs\\python\\python37-32\\lib\\site-packages (from thymiodirect) (3.5)\n"
     ]
    },
    {
     "name": "stderr",
     "output_type": "stream",
     "text": [
      "Traceback (most recent call last):\n",
      "  File \"<frozen runpy>\", line 198, in _run_module_as_main\n",
      "  File \"<frozen runpy>\", line 88, in _run_code\n",
      "  File \"c:\\Users\\Johanne\\AppData\\Local\\Programs\\Python\\Python312\\Lib\\site-packages\\tdmclient\\__main__.py\", line 67, in <module>\n",
      "    sys.exit(getattr(tdmclient.tools, tool_name).main(values))\n",
      "             ^^^^^^^^^^^^^^^^^^^^^^^^^^^^^^^^^^^^^^^^^^^^^^^^\n",
      "  File \"c:\\Users\\Johanne\\AppData\\Local\\Programs\\Python\\Python312\\Lib\\site-packages\\tdmclient\\tools\\list.py\", line 112, in main\n",
      "    with ClientAsync(zeroconf=zeroconf, zeroconf_all=zeroconf_all,\n",
      "         ^^^^^^^^^^^^^^^^^^^^^^^^^^^^^^^^^^^^^^^^^^^^^^^^^^^^^^^^^\n",
      "  File \"c:\\Users\\Johanne\\AppData\\Local\\Programs\\Python\\Python312\\Lib\\site-packages\\tdmclient\\clientasync.py\", line 42, in __init__\n",
      "    super(ClientAsync, self).__init__(**kwargs)\n",
      "  File \"c:\\Users\\Johanne\\AppData\\Local\\Programs\\Python\\Python312\\Lib\\site-packages\\tdmclient\\client.py\", line 98, in __init__\n",
      "    self.connect()\n",
      "  File \"c:\\Users\\Johanne\\AppData\\Local\\Programs\\Python\\Python312\\Lib\\site-packages\\tdmclient\\client.py\", line 112, in connect\n",
      "    self.tdm = TDMConnection(self.tdm_addr, self.tdm_port)\n",
      "               ^^^^^^^^^^^^^^^^^^^^^^^^^^^^^^^^^^^^^^^^^^^\n",
      "  File \"c:\\Users\\Johanne\\AppData\\Local\\Programs\\Python\\Python312\\Lib\\site-packages\\tdmclient\\tcp.py\", line 104, in __init__\n",
      "    self.io = TCPClientIO(host, port)\n",
      "              ^^^^^^^^^^^^^^^^^^^^^^^\n",
      "  File \"c:\\Users\\Johanne\\AppData\\Local\\Programs\\Python\\Python312\\Lib\\site-packages\\tdmclient\\tcp.py\", line 96, in __init__\n",
      "    self.socket.connect((host, port))\n",
      "ConnectionRefusedError: [WinError 10061] Aucune connexion n’a pu être établie car l’ordinateur cible l’a expressément refusée\n"
     ]
    }
   ],
   "source": [
    "!pip install tqdm scipy\n",
    "!pip install thymiodirect\n",
    "!python -m tdmclient list"
   ]
  },
  {
   "cell_type": "code",
   "execution_count": 276,
   "metadata": {},
   "outputs": [
    {
     "ename": "ConnectionRefusedError",
     "evalue": "[WinError 10061] Aucune connexion n’a pu être établie car l’ordinateur cible l’a expressément refusée",
     "output_type": "error",
     "traceback": [
      "\u001b[1;31m---------------------------------------------------------------------------\u001b[0m",
      "\u001b[1;31mConnectionRefusedError\u001b[0m                    Traceback (most recent call last)",
      "Cell \u001b[1;32mIn[276], line 2\u001b[0m\n\u001b[0;32m      1\u001b[0m \u001b[38;5;28;01mfrom\u001b[39;00m \u001b[38;5;21;01mtdmclient\u001b[39;00m \u001b[38;5;28;01mimport\u001b[39;00m ClientAsync, aw\n\u001b[1;32m----> 2\u001b[0m client \u001b[38;5;241m=\u001b[39m \u001b[43mClientAsync\u001b[49m\u001b[43m(\u001b[49m\u001b[43m)\u001b[49m\n\u001b[0;32m      3\u001b[0m node \u001b[38;5;241m=\u001b[39m \u001b[38;5;28;01mawait\u001b[39;00m client\u001b[38;5;241m.\u001b[39mwait_for_node()\n\u001b[0;32m      4\u001b[0m \u001b[38;5;28;01mawait\u001b[39;00m node\u001b[38;5;241m.\u001b[39mlock()\n",
      "File \u001b[1;32mc:\\Users\\Johanne\\AppData\\Local\\Programs\\Python\\Python312\\Lib\\site-packages\\tdmclient\\clientasync.py:42\u001b[0m, in \u001b[0;36mClientAsync.__init__\u001b[1;34m(self, node_class, **kwargs)\u001b[0m\n\u001b[0;32m     41\u001b[0m \u001b[38;5;28;01mdef\u001b[39;00m \u001b[38;5;21m__init__\u001b[39m(\u001b[38;5;28mself\u001b[39m, node_class\u001b[38;5;241m=\u001b[39m\u001b[38;5;28;01mNone\u001b[39;00m, \u001b[38;5;241m*\u001b[39m\u001b[38;5;241m*\u001b[39mkwargs):\n\u001b[1;32m---> 42\u001b[0m     \u001b[38;5;28;43msuper\u001b[39;49m\u001b[43m(\u001b[49m\u001b[43mClientAsync\u001b[49m\u001b[43m,\u001b[49m\u001b[43m \u001b[49m\u001b[38;5;28;43mself\u001b[39;49m\u001b[43m)\u001b[49m\u001b[38;5;241;43m.\u001b[39;49m\u001b[38;5;21;43m__init__\u001b[39;49m\u001b[43m(\u001b[49m\u001b[38;5;241;43m*\u001b[39;49m\u001b[38;5;241;43m*\u001b[39;49m\u001b[43mkwargs\u001b[49m\u001b[43m)\u001b[49m\n\u001b[0;32m     43\u001b[0m     \u001b[38;5;28mself\u001b[39m\u001b[38;5;241m.\u001b[39mnode_class \u001b[38;5;241m=\u001b[39m node_class \u001b[38;5;129;01mor\u001b[39;00m tdmclient\u001b[38;5;241m.\u001b[39mClientAsyncCacheNode\n",
      "File \u001b[1;32mc:\\Users\\Johanne\\AppData\\Local\\Programs\\Python\\Python312\\Lib\\site-packages\\tdmclient\\client.py:98\u001b[0m, in \u001b[0;36mClient.__init__\u001b[1;34m(self, zeroconf, zeroconf_all, tdm_ws, tdm_addr, tdm_port, tdm_transport, password, **kwargs)\u001b[0m\n\u001b[0;32m     96\u001b[0m \u001b[38;5;28;01mif\u001b[39;00m \u001b[38;5;28mself\u001b[39m\u001b[38;5;241m.\u001b[39mdebug \u001b[38;5;241m>\u001b[39m\u001b[38;5;241m=\u001b[39m \u001b[38;5;241m1\u001b[39m \u001b[38;5;129;01mand\u001b[39;00m \u001b[38;5;28mself\u001b[39m\u001b[38;5;241m.\u001b[39mtdm_transport \u001b[38;5;129;01mis\u001b[39;00m \u001b[38;5;28;01mNone\u001b[39;00m:\n\u001b[0;32m     97\u001b[0m         \u001b[38;5;28mprint\u001b[39m(\u001b[38;5;124mf\u001b[39m\u001b[38;5;124m\"\u001b[39m\u001b[38;5;124mTDM \u001b[39m\u001b[38;5;132;01m{\u001b[39;00m\u001b[38;5;28mself\u001b[39m\u001b[38;5;241m.\u001b[39mtdm_addr\u001b[38;5;132;01m}\u001b[39;00m\u001b[38;5;124m:\u001b[39m\u001b[38;5;132;01m{\u001b[39;00m\u001b[38;5;28mself\u001b[39m\u001b[38;5;241m.\u001b[39mtdm_port\u001b[38;5;132;01m}\u001b[39;00m\u001b[38;5;124m\"\u001b[39m)\n\u001b[1;32m---> 98\u001b[0m \u001b[38;5;28;43mself\u001b[39;49m\u001b[38;5;241;43m.\u001b[39;49m\u001b[43mconnect\u001b[49m\u001b[43m(\u001b[49m\u001b[43m)\u001b[49m\n\u001b[0;32m     99\u001b[0m \u001b[38;5;28mself\u001b[39m\u001b[38;5;241m.\u001b[39msend_handshake(password)\n",
      "File \u001b[1;32mc:\\Users\\Johanne\\AppData\\Local\\Programs\\Python\\Python312\\Lib\\site-packages\\tdmclient\\client.py:112\u001b[0m, in \u001b[0;36mClient.connect\u001b[1;34m(self)\u001b[0m\n\u001b[0;32m    110\u001b[0m     \u001b[38;5;28mself\u001b[39m\u001b[38;5;241m.\u001b[39mtdm \u001b[38;5;241m=\u001b[39m TDMConnectionWS(\u001b[38;5;28mself\u001b[39m\u001b[38;5;241m.\u001b[39mtdm_addr, \u001b[38;5;28mself\u001b[39m\u001b[38;5;241m.\u001b[39mtdm_ws_port)\n\u001b[0;32m    111\u001b[0m \u001b[38;5;28;01melse\u001b[39;00m:\n\u001b[1;32m--> 112\u001b[0m     \u001b[38;5;28mself\u001b[39m\u001b[38;5;241m.\u001b[39mtdm \u001b[38;5;241m=\u001b[39m \u001b[43mTDMConnection\u001b[49m\u001b[43m(\u001b[49m\u001b[38;5;28;43mself\u001b[39;49m\u001b[38;5;241;43m.\u001b[39;49m\u001b[43mtdm_addr\u001b[49m\u001b[43m,\u001b[49m\u001b[43m \u001b[49m\u001b[38;5;28;43mself\u001b[39;49m\u001b[38;5;241;43m.\u001b[39;49m\u001b[43mtdm_port\u001b[49m\u001b[43m)\u001b[49m\n",
      "File \u001b[1;32mc:\\Users\\Johanne\\AppData\\Local\\Programs\\Python\\Python312\\Lib\\site-packages\\tdmclient\\tcp.py:104\u001b[0m, in \u001b[0;36mTDMConnection.__init__\u001b[1;34m(self, host, port, debug)\u001b[0m\n\u001b[0;32m    101\u001b[0m     \u001b[38;5;28;01mdef\u001b[39;00m \u001b[38;5;21mwrite\u001b[39m(\u001b[38;5;28mself\u001b[39m, b):\n\u001b[0;32m    102\u001b[0m         \u001b[38;5;28mself\u001b[39m\u001b[38;5;241m.\u001b[39msocket\u001b[38;5;241m.\u001b[39msendall(b)\n\u001b[1;32m--> 104\u001b[0m \u001b[38;5;28mself\u001b[39m\u001b[38;5;241m.\u001b[39mio \u001b[38;5;241m=\u001b[39m \u001b[43mTCPClientIO\u001b[49m\u001b[43m(\u001b[49m\u001b[43mhost\u001b[49m\u001b[43m,\u001b[49m\u001b[43m \u001b[49m\u001b[43mport\u001b[49m\u001b[43m)\u001b[49m\n\u001b[0;32m    105\u001b[0m \u001b[38;5;28mself\u001b[39m\u001b[38;5;241m.\u001b[39mdebug \u001b[38;5;241m=\u001b[39m debug\n\u001b[0;32m    106\u001b[0m \u001b[38;5;28mself\u001b[39m\u001b[38;5;241m.\u001b[39mtimeout \u001b[38;5;241m=\u001b[39m \u001b[38;5;241m3\u001b[39m\n",
      "File \u001b[1;32mc:\\Users\\Johanne\\AppData\\Local\\Programs\\Python\\Python312\\Lib\\site-packages\\tdmclient\\tcp.py:96\u001b[0m, in \u001b[0;36mTDMConnection.__init__.<locals>.TCPClientIO.__init__\u001b[1;34m(self, host, port)\u001b[0m\n\u001b[0;32m     94\u001b[0m \u001b[38;5;28;01mdef\u001b[39;00m \u001b[38;5;21m__init__\u001b[39m(\u001b[38;5;28mself\u001b[39m, host, port):\n\u001b[0;32m     95\u001b[0m     \u001b[38;5;28mself\u001b[39m\u001b[38;5;241m.\u001b[39msocket \u001b[38;5;241m=\u001b[39m socket\u001b[38;5;241m.\u001b[39msocket(socket\u001b[38;5;241m.\u001b[39mAF_INET, socket\u001b[38;5;241m.\u001b[39mSOCK_STREAM)\n\u001b[1;32m---> 96\u001b[0m     \u001b[38;5;28;43mself\u001b[39;49m\u001b[38;5;241;43m.\u001b[39;49m\u001b[43msocket\u001b[49m\u001b[38;5;241;43m.\u001b[39;49m\u001b[43mconnect\u001b[49m\u001b[43m(\u001b[49m\u001b[43m(\u001b[49m\u001b[43mhost\u001b[49m\u001b[43m,\u001b[49m\u001b[43m \u001b[49m\u001b[43mport\u001b[49m\u001b[43m)\u001b[49m\u001b[43m)\u001b[49m\n",
      "\u001b[1;31mConnectionRefusedError\u001b[0m: [WinError 10061] Aucune connexion n’a pu être établie car l’ordinateur cible l’a expressément refusée"
     ]
    }
   ],
   "source": [
    "from tdmclient import ClientAsync, aw\n",
    "client = ClientAsync()\n",
    "node = await client.wait_for_node()\n",
    "await node.lock()\n",
    "\n"
   ]
  },
  {
   "cell_type": "code",
   "execution_count": 8,
   "metadata": {},
   "outputs": [],
   "source": [
    "import cv2\n",
    "import glob\n",
    "import sys\n",
    "import os\n",
    "import json\n",
    "from time import time, sleep\n",
    "sys.path.append('..')\n",
    "#sys.path.append(os.path.abspath('Users\\Johanne\\Desktop\\EPFL\\MA1\\Mobile\\Project\\BoMR_2024_T44\\src'))"
   ]
  },
  {
   "cell_type": "code",
   "execution_count": 9,
   "metadata": {},
   "outputs": [],
   "source": [
    "import matplotlib.pyplot as plt\n",
    "import numpy as np\n",
    "import math"
   ]
  },
  {
   "cell_type": "code",
   "execution_count": 10,
   "metadata": {},
   "outputs": [],
   "source": [
    "DIST_WHEEL =  95 # in mm\n",
    "CONVERT_FACTOR = 0.328 "
   ]
  },
  {
   "cell_type": "markdown",
   "metadata": {},
   "source": [
    "# Extended Kalman Filter \n",
    "\n",
    "The filter is constructed as follows: the function takes as arguments the vector z_measures, which contains the values measured by the camera, the previous coordinates (at time k-1), and the predicted covariance matrix. The code can be divided into two main parts: the prediction step and the update step (or correction phase).\n",
    "\n",
    "During the prediction step, the goal is to predict the state of the variables or the covariance at time k using the same variables and covariance at time k-1. The algorithm was developed with the help of [exercise 8](https://moodle.epfl.ch/course/view.php?id=15293 ) from the course \"Basics of Mobile Robotics\" as well as [external sources](https://automaticaddison.com/extended-kalman-filter-ekf-with-python-code-example/).\n",
    "\n",
    "In the context of our project, we have defined the states of our robot as follows:\n",
    "\n",
    "- x: The robot's coordinate on the x-axis.\n",
    "- y: The robot's coordinate on the y-axis.\n",
    "- $\\theta$: The robot's orientation relative to the x and y axes.\n",
    "\n"
   ]
  },
  {
   "cell_type": "markdown",
   "metadata": {},
   "source": [
    "The first step is to define the **constants** used when calling the filter.\n",
    "\n",
    "\n",
    "\n",
    "To do this, we have defined the matrices `A` and `H` as identity matrices. Indeed, the matrix A represents the robot's state between k−1 and k when no control input is applied. In the case of the robot, if the motor is not running, its state does not change.\n",
    "\n",
    "Furthermore, we have defined the matrices `Q`, `R`, `w_k` et `v_kmoins1`. Each of these represents a source of noise that can alter the Thymio's position measurements. This table assigns a definition to each variable.\n",
    "\n",
    "\n",
    "| Variable                | Description                                      | \n",
    "|-------------------------|--------------------------------------------------|\n",
    "| `Q`          | State model noise covariance matrix             \n",
    "| `R`          | Sensor measurement noise covariance matrix          \n",
    "| `w_k`        | Sensor noise matrix                                \n",
    "| `v_kmoins1`  | noise applied to the forward kinematics       \n",
    "\n",
    "Justifier leurs valeurs (après calibrage lors des tests) "
   ]
  },
  {
   "cell_type": "code",
   "execution_count": 11,
   "metadata": {},
   "outputs": [],
   "source": [
    "dk = 0.1                        #en s\n",
    "\n",
    "A = np.eye(3)\n",
    "\n",
    "H = np.eye(3) # measuremnt matrix\n",
    "\n",
    "# Noises \n",
    "\n",
    "Q = np.diag([0.2, 0.2, 0.25]) # noise model\n",
    "R = np.diag([0.2, 0.2, 0.2])  # mesure noise (x, y)\n",
    "w_k = np.array([[0.07], [0.07], [0.04]]) #sensor noise error\n",
    "#v_kmoins1 = np.array([[0.01], [0.01], [0.003]]) #comment trouver les valeurs"
   ]
  },
  {
   "cell_type": "markdown",
   "metadata": {},
   "source": [
    "- ### initialisation_kalman()\n",
    "This first definition allows us to initialize our states at k−1. As soon as the first measurement of the robot's position by the camera is obtained, the state and covariance matrix of the robot will be updated. Both matrices are thus initialized by the identity function."
   ]
  },
  {
   "cell_type": "markdown",
   "metadata": {},
   "source": [
    "- ### matrix_B (theta, delta_time)\n",
    "This function, as its name suggests, defines the matrix B based on the robot's angle measured using the camera and the time step chosen for the algorithm."
   ]
  },
  {
   "cell_type": "markdown",
   "metadata": {},
   "source": [
    "- ###  obs_model (x)\n",
    "The `obs_model` function computes the observation model, representing the predicted sensor measurements at time k based on the predicted state estimate at the same time. It is used in the Kalman filter algorithm to calculate the discrepancy between the actual sensor measurements and the predicted ones. T"
   ]
  },
  {
   "cell_type": "markdown",
   "metadata": {},
   "source": [
    "- ### prediction_step(x_kmoins1, u_kmoins1, P_kmoins1, dk):\n",
    "This function performs an estimation of the robot's state and covariance based on previously obtained information. Specifically, the state estimation is calculated as follows: the robot's state at time \n",
    "k is predicted based on the state estimated at time k−1, the control applied at time k−1, and the process noise `v_kmoins1`. Additionally, the covariance estimate is updated by considering the model uncertainties `Q` and the covariances estimated at time k−1.\n",
    "\n",
    "- ### update_step (x_estimated, P_estimated, z_measures):\n",
    "This function implements the correction step of the filter. The estimation is adjusted by integrating the observed measurements and considering the uncertainty of the sensors. Specifically, the innovation `i` represents the difference between the measurements made by the camera and the observation model calculated by the obs_model function. The covariance (measurement residual) and Kalman gain are then calculated. The state `x_k` and `P_k` are subsequently updated.\n",
    "\n",
    "- ### e_kalman_f (z_measures, x_kmoins1, u_kmoins1, P_kmoins1, dk):\n",
    "`e_kalman_f` performs a full iteration of the Kalman filter: the prediction step and the update step. If no external measurements are used, the estimation relies solely on the system's dynamics. The results `x_k` and `P_k` are then ready to be used in the next iteration.\n",
    "\n",
    "\n",
    "`e_kalman_f`, is the main function of the filter and follows the steps studied during the course and exercise sessions. It has been adapted to implement an Extended Kalman Filter (EKF), particularly during the prediction step, where the linear equations of the classical Kalman filter are replaced by nonlinear equations."
   ]
  },
  {
   "cell_type": "code",
   "execution_count": 12,
   "metadata": {},
   "outputs": [],
   "source": [
    "\n",
    "def initialisation_kalman():\n",
    "    #state initialisation   \n",
    "    x_kmoins1 = np.array([[0], [0], [0]])\n",
    "    P_kmoins1 = np.eye(3)\n",
    "    return x_kmoins1, P_kmoins1\n",
    "\n",
    "def matrix_B (theta, delta_time ):\n",
    "    \n",
    "    B = np.array ([[np.cos(theta)*delta_time, 0], [np.sin(theta)*delta_time, 0], [0 , delta_time] ])\n",
    "    return B\n",
    "\n",
    "def obs_model (x):\n",
    "    y = np.dot(H, x) + w_k\n",
    "    return y\n",
    "\n",
    "\n",
    "def prediction_step (x_kmoins1, u_kmoins1, P_kmoins1, dk):\n",
    "    \n",
    "    # Estimated mean of the state\n",
    "    x_estimated = np.dot(A, x_kmoins1) + np.dot(matrix_B(x_kmoins1[2,0], dk), u_kmoins1) #+ v_kmoins1\n",
    "    # Estimated covariance of the state\n",
    "    P_estimated = np.dot(A, np.dot(P_kmoins1, A.T)) + Q \n",
    "\n",
    "    return x_estimated, P_estimated\n",
    "\n",
    "def update_step (x_estimated, P_estimated, z_measures):\n",
    "    \n",
    "    # Innovation residual\n",
    "    i = z_measures - obs_model (x_estimated)\n",
    "\n",
    "    # Measurement prediction covariance\n",
    "    S = np.dot(H, np.dot(P_estimated, H.T)) + R\n",
    "\n",
    "    # Kalman gain \n",
    "    K = np.dot(P_estimated, np.dot(H.T, np.linalg.inv(S)))\n",
    "    \n",
    "    # Update estimate\n",
    "    x_k = x_estimated + np.dot(K,i)\n",
    "    P_k = P_estimated - np.dot(K,np.dot(H, P_estimated))\n",
    "\n",
    "    return x_k, P_k\n",
    "\n",
    "def e_kalman_f (z_measure, x_kmoins1, u_kmoins1, P_kmoins1, camera, dk):\n",
    "    \n",
    "    x_estimated, P_estimated = prediction_step(x_kmoins1, u_kmoins1, P_kmoins1, dk)\n",
    "\n",
    "    camera = 1\n",
    "    if camera == 0:\n",
    "        measures = x_estimated\n",
    "    else :\n",
    "        measures = z_measure\n",
    "    \n",
    "    x_k, P_k = update_step(x_estimated, P_estimated, measures)\n",
    "    return  x_k, P_k\n"
   ]
  },
  {
   "cell_type": "markdown",
   "metadata": {},
   "source": [
    "# Main tests"
   ]
  },
  {
   "cell_type": "markdown",
   "metadata": {},
   "source": [
    "The `convertion_vitesse` function calculates the linear and angular velocities of a differential robot based on the speeds of its left and right wheels. The conversion of speeds into pixels per second is based on a calibration performed by timing how long it takes the robot to travel a defined distance, allowing the determination of the conversion factor between the system's units (e.g., in ticks or mm) and pixels. This factor is then applied to the wheel speeds to obtain a consistent representation in pixels, where 1 pixel corresponds to 1 mm. From these converted speeds, the linear velocity is calculated as the average of the two wheel speeds, while the angular velocity is determined based on their difference, weighted by the wheelbase distance. The result, an array containing the linear and angular velocities, provides a precise characterization of the robot's overall movement."
   ]
  },
  {
   "cell_type": "code",
   "execution_count": 13,
   "metadata": {},
   "outputs": [],
   "source": [
    "def convertion_vitesse (vitesse_left, vitesse_right):\n",
    "    #rappel 1pxl = 1mm\n",
    "    left_speed_pxl_s = vitesse_left*CONVERT_FACTOR\n",
    "    right_speed_pxl_s = vitesse_right*CONVERT_FACTOR\n",
    "\n",
    "    vitesse_linear = (left_speed_pxl_s + right_speed_pxl_s)/2\n",
    "    vitesse_angular = (left_speed_pxl_s + right_speed_pxl_s)/ DIST_WHEEL\n",
    "    \n",
    "    vitesse_robot = np.array([[vitesse_linear],[vitesse_angular]]) \n",
    "    print('La vitesse du robot est :', vitesse_robot)\n",
    "    \n",
    "    return vitesse_robot"
   ]
  },
  {
   "cell_type": "markdown",
   "metadata": {},
   "source": [
    "For the moment, these part of the code is a test. z_measure will be the coordonates of the Thymio catch by the global vision. "
   ]
  },
  {
   "cell_type": "code",
   "execution_count": 14,
   "metadata": {},
   "outputs": [
    {
     "name": "stdout",
     "output_type": "stream",
     "text": [
      "La vitesse du robot est : [[32.8       ]\n",
      " [ 0.69052632]]\n",
      "Camera position measurement [[ 5]\n",
      " [10]\n",
      " [ 2]]\n",
      "Robot's position after kalman filter [[4.69428571]\n",
      " [8.51142857]\n",
      " [1.69917967]]\n"
     ]
    }
   ],
   "source": [
    "\n",
    "u_kmoins1 = convertion_vitesse(vitesse_left = 100, vitesse_right = 100)\n",
    "\n",
    "\n",
    "z_measure = np.array ([[5], [10],[2]]) #falses measures\n",
    "\n",
    "\n",
    "x_kmoins1, P_kmoins1 = initialisation_kalman()\n",
    "\n",
    "camera = 1\n",
    "\n",
    "new_x_est, new_P_est = e_kalman_f(z_measure, x_kmoins1, u_kmoins1, P_kmoins1, camera, dk)\n",
    "\n",
    "x_kmoins1 = new_x_est\n",
    "P_kmoins1 = new_P_est\n",
    "print('Camera position measurement', z_measure)\n",
    "print(\"Robot's position after kalman filter\", new_x_est)\n",
    "\n"
   ]
  },
  {
   "cell_type": "markdown",
   "metadata": {},
   "source": [
    "test Gaussienne"
   ]
  },
  {
   "cell_type": "code",
   "execution_count": 15,
   "metadata": {},
   "outputs": [
    {
     "data": {
      "image/png": "[encoded data removed]",
      "text/plain": [
       "<Figure size 800x400 with 1 Axes>"
      ]
     },
     "metadata": {},
     "output_type": "display_data"
    }
   ],
   "source": [
    "from src.kalman_filter import plot_orientation\n",
    "\n",
    "angle_kalman = new_x_est[2]\n",
    "var_angle_kalman = new_P_est[2,2]\n",
    "plot_orientation(angle_kalman, var_angle_kalman)"
   ]
  },
  {
   "cell_type": "code",
   "execution_count": 16,
   "metadata": {},
   "outputs": [
    {
     "data": {
      "image/png": "[encoded data removed]",
      "text/plain": [
       "<Figure size 640x480 with 2 Axes>"
      ]
     },
     "metadata": {},
     "output_type": "display_data"
    }
   ],
   "source": [
    "import numpy as np\n",
    "import matplotlib.pyplot as plt\n",
    "from matplotlib import cm\n",
    "from src.kalman_filter import plot_position\n",
    "\n",
    "# Paramètres\n",
    "N = 60\n",
    "X = np.linspace(0, 15, N) \n",
    "Y = np.linspace(0, 15, N)\n",
    "X, Y = np.meshgrid(X, Y)\n",
    "\n",
    "# Positions estimées et mesurées \n",
    "position_camera = np.array([z_measure.flatten()[0], z_measure.flatten()[1]])  # Mesure par la caméra\n",
    "position_est = np.array([new_x_est.flatten()[0], new_x_est.flatten()[1]])     # Estimation Kalman Filter\n",
    "\n",
    "cov_position = new_P_est[:2, :2]\n",
    "\n",
    "x_est, y_est = new_x_est[0], new_x_est[1]\n",
    "x_camera, y_camera = position_camera[0], position_camera[1]\n",
    "\n",
    "# Calcul des probabilités avec la distribution gaussienne\n",
    "Z = np.zeros(X.shape)\n",
    "for i in range(X.shape[0]):\n",
    "    for j in range(X.shape[1]):\n",
    "        Z[i, j] = plot_position(np.array([X[i, j], Y[i, j]]),position_est , cov_position)\n",
    "\n",
    "# AFFICHAGE\n",
    "fig, ax = plt.subplots()\n",
    "contour = ax.contourf(X, Y, Z, cmap=cm.viridis)\n",
    "\n",
    "ax.scatter(x_est, y_est, color='blue', label='Estimated position', s=100, marker='x')\n",
    "ax.scatter(x_camera, y_camera, color='green', label='Measured position', s=100, marker='o')\n",
    "\n",
    "plt.colorbar(contour, label='Probability')\n",
    "ax.set_xlabel('X')\n",
    "ax.set_ylabel('Y')\n",
    "ax.set_title('Probability map of robot position')\n",
    "plt.legend()\n",
    "plt.show()\n"
   ]
  },
  {
   "cell_type": "code",
   "execution_count": null,
   "metadata": {},
   "outputs": [],
   "source": []
  }
 ],
 "metadata": {
  "kernelspec": {
   "display_name": "Python 3",
   "language": "python",
   "name": "python3"
  },
  "language_info": {
   "codemirror_mode": {
    "name": "ipython",
    "version": 3
   },
   "file_extension": ".py",
   "mimetype": "text/x-python",
   "name": "python",
   "nbconvert_exporter": "python",
   "pygments_lexer": "ipython3",
   "version": "3.12.7"
  }
 },
 "nbformat": 4,
 "nbformat_minor": 2
}
